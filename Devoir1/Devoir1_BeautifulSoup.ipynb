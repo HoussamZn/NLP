{
 "cells": [
  {
   "cell_type": "code",
   "execution_count": null,
   "id": "fec87ec5",
   "metadata": {},
   "outputs": [],
   "source": [
    "import requests\n",
    "from bs4 import BeautifulSoup\n",
    "import re\n",
    "import pandas as pd\n",
    "\n",
    "# Changer l’URL selon le besoin\n",
    "url = \"https://fstt.ac.ma/Portail2023/\"\n",
    "\n",
    "# Définir les champs du Header HTTP\n",
    "headers = {\n",
    "    \"User-Agent\": \"Mozilla/5.0 (Windows NT 10.0; Win64; x64) AppleWebKit/537.36 (KHTML, like Gecko) Chrome/58.0.3029.110 Safari/537.3\",\n",
    "    \"Accept-Language\": \"fr-FR,fr;q=0.9,en-US;q=0.8,en;q=0.7\",\n",
    "    \"Accept-Encoding\": \"gzip, deflate, br\",\n",
    "    \"Connection\": \"keep-alive\"\n",
    "}\n",
    "\n",
    "# Envoyer la requête vers URL avec le HEADER personnalisé\n",
    "try :\n",
    "    response = requests.get(url, headers=headers)\n",
    "    response.raise_for_status() # Vérifie si la requête a réussi\n",
    "except requests.exceptions.RequestException as e :\n",
    "    print(f\"Erreur de connexion : {e}\")\n",
    "else :\n",
    "    \n",
    "    soup = BeautifulSoup(response.text, \"html.parser\")"
   ]
  },
  {
   "cell_type": "code",
   "execution_count": 5,
   "id": "09e87892",
   "metadata": {},
   "outputs": [],
   "source": [
    "titles = []\n",
    "links = []\n",
    "dates = []\n",
    "\n",
    "for article in soup.find_all(\"article\"):\n",
    "    titles.append(re.sub(r'\\s+', ' ', article.find(\"h3\").text).strip())\n",
    "    links.append(article.find('h3').find('a')['href'])\n",
    "    dates.append(re.sub(r'\\s+', ' ', article.find(\"span\").text).strip())"
   ]
  },
  {
   "cell_type": "code",
   "execution_count": null,
   "id": "bc1ff81d",
   "metadata": {},
   "outputs": [
    {
     "data": {
      "text/html": [
       "<div>\n",
       "<style scoped>\n",
       "    .dataframe tbody tr th:only-of-type {\n",
       "        vertical-align: middle;\n",
       "    }\n",
       "\n",
       "    .dataframe tbody tr th {\n",
       "        vertical-align: top;\n",
       "    }\n",
       "\n",
       "    .dataframe thead th {\n",
       "        text-align: right;\n",
       "    }\n",
       "</style>\n",
       "<table border=\"1\" class=\"dataframe\">\n",
       "  <thead>\n",
       "    <tr style=\"text-align: right;\">\n",
       "      <th></th>\n",
       "      <th>Title</th>\n",
       "      <th>Link</th>\n",
       "      <th>Date</th>\n",
       "    </tr>\n",
       "  </thead>\n",
       "  <tbody>\n",
       "    <tr>\n",
       "      <th>0</th>\n",
       "      <td>11ÈME ÉDITION DU CONCOURS FRANCOPHONE INTERNAT...</td>\n",
       "      <td>https://fstt.ac.ma/Portail2023/11eme-edition-d...</td>\n",
       "      <td>avril 8, 2025</td>\n",
       "    </tr>\n",
       "    <tr>\n",
       "      <th>1</th>\n",
       "      <td>APPEL À PARTICIPATION AU CLUB « SHABAB LABS – ...</td>\n",
       "      <td>https://fstt.ac.ma/Portail2023/appel-a-partici...</td>\n",
       "      <td>avril 3, 2025</td>\n",
       "    </tr>\n",
       "    <tr>\n",
       "      <th>2</th>\n",
       "      <td>INVITATION : JOURNÉE DOCTORALE</td>\n",
       "      <td>https://fstt.ac.ma/Portail2023/invitation-jour...</td>\n",
       "      <td>avril 2, 2025</td>\n",
       "    </tr>\n",
       "    <tr>\n",
       "      <th>3</th>\n",
       "      <td>FORMATION À DISTANCE EN « TÉLÉDÉTECTION RADAR ...</td>\n",
       "      <td>https://fstt.ac.ma/Portail2023/formation-a-dis...</td>\n",
       "      <td>avril 1, 2025</td>\n",
       "    </tr>\n",
       "  </tbody>\n",
       "</table>\n",
       "</div>"
      ],
      "text/plain": [
       "                                               Title  \\\n",
       "0  11ÈME ÉDITION DU CONCOURS FRANCOPHONE INTERNAT...   \n",
       "1  APPEL À PARTICIPATION AU CLUB « SHABAB LABS – ...   \n",
       "2                     INVITATION : JOURNÉE DOCTORALE   \n",
       "3  FORMATION À DISTANCE EN « TÉLÉDÉTECTION RADAR ...   \n",
       "\n",
       "                                                Link           Date  \n",
       "0  https://fstt.ac.ma/Portail2023/11eme-edition-d...  avril 8, 2025  \n",
       "1  https://fstt.ac.ma/Portail2023/appel-a-partici...  avril 3, 2025  \n",
       "2  https://fstt.ac.ma/Portail2023/invitation-jour...  avril 2, 2025  \n",
       "3  https://fstt.ac.ma/Portail2023/formation-a-dis...  avril 1, 2025  "
      ]
     },
     "execution_count": 7,
     "metadata": {},
     "output_type": "execute_result"
    }
   ],
   "source": [
    "df = pd.DataFrame({\n",
    "    'Title': titles,\n",
    "    'Link': links,\n",
    "    'Date': dates\n",
    "})\n",
    "\n",
    "df.to_csv(\"Devoir1.csv\",index=False)\n",
    "df"
   ]
  }
 ],
 "metadata": {
  "kernelspec": {
   "display_name": "DL",
   "language": "python",
   "name": "python3"
  },
  "language_info": {
   "codemirror_mode": {
    "name": "ipython",
    "version": 3
   },
   "file_extension": ".py",
   "mimetype": "text/x-python",
   "name": "python",
   "nbconvert_exporter": "python",
   "pygments_lexer": "ipython3",
   "version": "3.11.11"
  }
 },
 "nbformat": 4,
 "nbformat_minor": 5
}
