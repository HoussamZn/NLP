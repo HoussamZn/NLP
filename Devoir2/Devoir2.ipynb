{
 "cells": [
  {
   "cell_type": "code",
   "execution_count": 1,
   "id": "8b3e6d97",
   "metadata": {},
   "outputs": [
    {
     "name": "stdout",
     "output_type": "stream",
     "text": [
      "['hr.acome.maroc2016@gmail.com', 'boutaina.khalil@acome.ma', 'postuler@a2me.ma', 'zainab.benali@akka.eu', 'widad.aboud@grupoantolin.com', 'recrutement.sebn.ma@gmail.com', 'Mohammed.Boughaba@bamesa.com', 'tanger@bamesa.com', '-admin@cieautomotive.com', 'recruitement.cofma@coficab.com', 'm.naoui@covercar.es', 'elouahabi@dabel.es', 'zmezgueldi@delfingen.com', 'rh.candidature.delfingen@gmail.com', 'cv.maroc@aptiv.com', 'cv.maroc@delphi.com', 'ecihiring@gmail.com', 'careers@ecintl.com', 'sanae.aoufi@ecintl.com', 'infoMOROCCO@emdep.com', 'hbakali@emdep.com', 'Abrighach.Mohamed@federalmogul.com', 'chandad.federalmogul18@gmail.com', 'recrufur@gmail.com', 'mustapha.elbohdidi@eu.fujikura.com', 'tanger.recruitment@eu.fujikura.com', 'rachakabbab1@gmail.com', 'rh@gmdtanger.com', 'Houssam.Sabil@gmdtanger.com', 'rh@gmdtanger.com', 'info@gretin.net', 'inergy.maroc@inergyautomotive.com', 'stagiaire.admin@inergyautomotive.com', 'Nadia.Jahri@plasticomnium.com', 'skhoulifi@jobelsa.ma', 'mahmaddouch@jobelsa.com', 'joyson.recrutement@eu.joysonsafety.com', 'joysonrecrutement@gmail.com', 'recruitment.morocco@jtekt.eu', 'recrutement.knauf.2017@gmail.com', 'knanat@lear.com', 'arafiq@lear.com', 'mohammedloulou@gmail.com', 'Recruitment@novatectanger.ma', 'orhanmrcrecrute@gmail.com', 'manalcharoq@gmail.com', 'mr.zebakh@plastexmaroc.com', 'Choukri.boukhzar@grupopremo.com', 'rrhh@proinsur.com', 'administracio@relats.com', 'relatsmaroc@relats.com', 'recrutement.maroc@renault.com', 'gestion.stagiaire@renault.com', 'info-morocco@schlemmer.com', 'career@schlemmer.com', 'nabila.ouchicha@sogefigroupe.com', 'careers@sogefigroup.com', 'rh-tanger@snop.eu', 'mabenchekroun@snop.eu', 'HRmorocco@standardprofil.com', 'kallouch@standardprofil.com', 'geral@sulimet.com', 'kaoutar.bourzgui@sulimet.com', 'nezha@sumiecopet.com', 'lamiaa.bennejma@te.com', 'hr@tekniagroup.com', 'hamida.ghoumarti@tekniagroup.com', 'recruiter.khanchar@gmail.com', 'recrutementvaleo@gmail.com', 'kacem.bya@valeo.com', 'Recrutement.VLSMaroc@gmail.com', 'VLSinfo@varroclighting.com', 'administration@virmousil.ma', 'bamrani@vizaauto.com']\n"
     ]
    }
   ],
   "source": [
    "import PyPDF2\n",
    "import re\n",
    "import csv\n",
    "\n",
    "# Remplacez 'votre_fichier.pdf' par le nom de votre fichier PDF\n",
    "pdf_file_path = 'email2.pdf'\n",
    "# Ouvrir le fichier PDF en mode lecture binaire\n",
    "with open(pdf_file_path, 'rb') as file:\n",
    "    reader = PyPDF2.PdfReader(file)\n",
    "\n",
    "    # Initialiser une chaîne de caractères pour stocker le texte extrait\n",
    "    text = ' '\n",
    "\n",
    "    # Parcourir toutes les pages du PDF\n",
    "    for page_num in range(len(reader.pages)):\n",
    "        page = reader.pages[page_num]\n",
    "        text += page.extract_text()\n",
    "\n",
    "emails = re.findall(r'[a-zA-Z0-9._%+-]+@[a-zA-Z0-9.-]+\\.[a-zA-Z]{2,}', text)\n",
    "\n",
    "print(emails)\n"
   ]
  },
  {
   "cell_type": "code",
   "execution_count": 2,
   "id": "fe5d0cb4",
   "metadata": {},
   "outputs": [],
   "source": [
    "with open('emails.csv', 'w', newline='', encoding='utf-8') as csvfile:\n",
    "    writer = csv.writer(csvfile)\n",
    "    writer.writerow(['Email'])  # Header\n",
    "    for email in emails:\n",
    "        writer.writerow([email])"
   ]
  }
 ],
 "metadata": {
  "kernelspec": {
   "display_name": "DL",
   "language": "python",
   "name": "python3"
  },
  "language_info": {
   "codemirror_mode": {
    "name": "ipython",
    "version": 3
   },
   "file_extension": ".py",
   "mimetype": "text/x-python",
   "name": "python",
   "nbconvert_exporter": "python",
   "pygments_lexer": "ipython3",
   "version": "3.11.11"
  }
 },
 "nbformat": 4,
 "nbformat_minor": 5
}
