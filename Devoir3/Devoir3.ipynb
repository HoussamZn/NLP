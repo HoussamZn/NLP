{
 "cells": [
  {
   "cell_type": "code",
   "execution_count": 307,
   "id": "96b70657",
   "metadata": {},
   "outputs": [
    {
     "name": "stderr",
     "output_type": "stream",
     "text": [
      "[nltk_data] Downloading package punkt to\n",
      "[nltk_data]     C:\\Users\\Houssam\\AppData\\Roaming\\nltk_data...\n",
      "[nltk_data]   Package punkt is already up-to-date!\n",
      "[nltk_data] Downloading package stopwords to\n",
      "[nltk_data]     C:\\Users\\Houssam\\AppData\\Roaming\\nltk_data...\n",
      "[nltk_data]   Package stopwords is already up-to-date!\n",
      "[nltk_data] Downloading package punkt_tab to\n",
      "[nltk_data]     C:\\Users\\Houssam\\AppData\\Roaming\\nltk_data...\n",
      "[nltk_data]   Package punkt_tab is already up-to-date!\n"
     ]
    },
    {
     "data": {
      "text/plain": [
       "True"
      ]
     },
     "execution_count": 307,
     "metadata": {},
     "output_type": "execute_result"
    }
   ],
   "source": [
    "import re\n",
    "import nltk\n",
    "from nltk.tokenize import word_tokenize\n",
    "from nltk.corpus import stopwords\n",
    "from difflib import get_close_matches\n",
    "from nltk.stem import SnowballStemmer\n",
    "\n",
    "# Télécharger les ressources nécessaires de NLTK\n",
    "nltk.download('punkt')\n",
    "nltk.download('stopwords')\n",
    "nltk.download('punkt_tab')"
   ]
  },
  {
   "cell_type": "markdown",
   "id": "ea38eac5",
   "metadata": {},
   "source": [
    "## Exercice 1"
   ]
  },
  {
   "cell_type": "code",
   "execution_count": 308,
   "id": "4c162419",
   "metadata": {},
   "outputs": [],
   "source": [
    "\n",
    "abreviations = {\n",
    "    \"BID\": \"bis in die\",\n",
    "    \"IV\": \"intraveineuse\",\n",
    "    'Ttt' : \"traitement\",\n",
    "    'Pat.' : 'patient',\n",
    "    \"corticoïdes\" : \"glucocorticoides\",\n",
    "    \"++fébrile\" : \"hyperthermique\"\n",
    "}\n",
    "\n",
    "def clean(text:str):\n",
    "    \n",
    "    for abreviation, signification in abreviations.items():\n",
    "        text = text.replace(abreviation, signification)\n",
    "    \n",
    "    text = re.sub(r'\\s-\\s', ' ', text)\n",
    "\n",
    "    text = re.sub(r'\\d{2}/\\d{2}/\\d{2,4}', '', text)\n",
    "\n",
    "    text = re.sub(r'(?<!\\d)\\.(?!\\d)', '', text)\n",
    "\n",
    "    text = re.sub(r'[^\\w\\s.-]', '', text)\n",
    "\n",
    "    text = re.sub(r'\\d+(\\.\\d+)?[a-zA-Z/]+', '', text)\n",
    "\n",
    "    text = re.sub(r'\\n', ' ', text)\n",
    "\n",
    "    text = re.sub(r'\\s{2,}', ' ', text)\n",
    "\n",
    "    return text.strip()\n"
   ]
  },
  {
   "cell_type": "code",
   "execution_count": 309,
   "id": "9ac66422",
   "metadata": {},
   "outputs": [],
   "source": [
    "texte_medical = \"\"\"\n",
    "Pat. 45ans admis le 12/03/25 pour COVID-19 sévère.\n",
    "CRP: 125mg/L (N<5) - Fièvre à 39.2°C.\n",
    "Ttt par corticoïdes IV + azithromycine 500mg/J.\n",
    "#Attention: allergie à la pénicilline!\n",
    "\"\"\""
   ]
  },
  {
   "cell_type": "code",
   "execution_count": 310,
   "id": "2fa1f251",
   "metadata": {},
   "outputs": [
    {
     "name": "stdout",
     "output_type": "stream",
     "text": [
      "patient admis le pour COVID-19 sévère CRP N5 Fièvre à traitement par glucocorticoides intraveineuse azithromycine Attention allergie à la pénicilline\n"
     ]
    }
   ],
   "source": [
    "cleaned_text = clean(texte_medical)\n",
    "print(cleaned_text)"
   ]
  },
  {
   "cell_type": "markdown",
   "id": "5224d494",
   "metadata": {},
   "source": [
    "## Exercice 2"
   ]
  },
  {
   "cell_type": "code",
   "execution_count": 311,
   "id": "5874b8a8",
   "metadata": {},
   "outputs": [],
   "source": [
    "def tokenisation(text:str):\n",
    "    for abreviation, signification in abreviations.items():\n",
    "        text = text.replace(abreviation, signification)\n",
    "\n",
    "    text = re.sub(r'\\s-\\s', ' ', text)\n",
    "\n",
    "    text = re.sub(r'\\d{2}/\\d{2}/\\d{2,4}', '', text)\n",
    "\n",
    "    text = re.sub(r'(?<!\\d)\\.(?!\\d)', '', text)\n",
    "\n",
    "    text = re.sub(r'[^\\w\\s./<-]', '', text)\n",
    "\n",
    "    text = re.sub(r'\\n', ' ', text)\n",
    "\n",
    "    text = re.sub(r'\\s{2,}', ' ', text)\n",
    "\n",
    "    text = re.sub(r'(\\d+)([a-zA-Z]+)', r'\\1 \\2', text)  # sépare nombre et unité\n",
    "    text = re.sub(r'([a-zA-Z]+)(/)([a-zA-Z]+)', r'\\1 \\2 \\3', text)  # sépare unités autour du /\n",
    "\n",
    "    mots = word_tokenize(text)\n",
    "\n",
    "    return mots\n",
    "\n",
    "    "
   ]
  },
  {
   "cell_type": "code",
   "execution_count": 312,
   "id": "9d84b79b",
   "metadata": {},
   "outputs": [
    {
     "name": "stdout",
     "output_type": "stream",
     "text": [
      "['patient', '45', 'ans', 'admis', 'le', 'pour', 'COVID-19', 'sévère', 'CRP', '125', 'mg', '/', 'L', 'N', '<', '5', 'Fièvre', 'à', '39.2', 'C', 'traitement', 'par', 'glucocorticoides', 'intraveineuse', 'azithromycine', '500', 'mg', '/', 'J', 'Attention', 'allergie', 'à', 'la', 'pénicilline']\n"
     ]
    }
   ],
   "source": [
    "tokenized = tokenisation(texte_medical)\n",
    "print(tokenized)"
   ]
  },
  {
   "cell_type": "code",
   "execution_count": 313,
   "id": "8053204f",
   "metadata": {},
   "outputs": [],
   "source": [
    "def supprimer_stopwords(mots):\n",
    "    stop_words = set(stopwords.words('french'))\n",
    "\n",
    "    mots_filtres = [mot.lower() for mot in mots if mot not in stop_words]\n",
    "    return mots_filtres"
   ]
  },
  {
   "cell_type": "code",
   "execution_count": 314,
   "id": "790a6582",
   "metadata": {},
   "outputs": [
    {
     "name": "stdout",
     "output_type": "stream",
     "text": [
      "['patient', '45', 'ans', 'admis', 'covid-19', 'sévère', 'crp', '125', 'mg', '/', 'l', 'n', '<', '5', 'fièvre', '39.2', 'c', 'traitement', 'glucocorticoides', 'intraveineuse', 'azithromycine', '500', 'mg', '/', 'j', 'attention', 'allergie', 'pénicilline']\n"
     ]
    }
   ],
   "source": [
    "no_stop_words = supprimer_stopwords(tokenized)\n",
    "print(no_stop_words)"
   ]
  },
  {
   "cell_type": "markdown",
   "id": "1738380e",
   "metadata": {},
   "source": [
    "## Exercice 3"
   ]
  },
  {
   "cell_type": "code",
   "execution_count": 315,
   "id": "bf80f585",
   "metadata": {},
   "outputs": [],
   "source": [
    "# Exemple mini dictionnaire médical\n",
    "dictionnaire_medical = [\n",
    "    \"hypoglycémie\", \"diabète\", \"hypertension\", \"tachycardie\", \"fièvre\", \"asthme\"\n",
    "]\n",
    "\n",
    "def corriger(mot: str):\n",
    "    if mot.isdigit():\n",
    "        return mot\n",
    "    \n",
    "    corrections = {\n",
    "        '0': 'o', '1': 'l', '5': 's', '6': 'b', '€': 'e'\n",
    "    }\n",
    "    for faute, correct in corrections.items():\n",
    "        mot = mot.replace(faute, correct)\n",
    "\n",
    "    # Correction par similarité sur le dictionnaire\n",
    "    suggestions = get_close_matches(mot, dictionnaire_medical, n=1, cutoff=0.8)\n",
    "    if suggestions:\n",
    "        return suggestions[0]\n",
    "    else:\n",
    "        return mot\n"
   ]
  },
  {
   "cell_type": "code",
   "execution_count": 316,
   "id": "e585ed1c",
   "metadata": {},
   "outputs": [],
   "source": [
    "def normalisation(words):\n",
    "    corrected = [corriger(word) for word in words]\n",
    "\n",
    "    # Initialiser le stemmer pour le français\n",
    "    stemmer = SnowballStemmer(\"french\")\n",
    "    # Appliquer le stemming à chaque mot\n",
    "    mots_normalises = [stemmer.stem(mot) for mot in corrected]\n",
    "    return mots_normalises"
   ]
  },
  {
   "cell_type": "code",
   "execution_count": 317,
   "id": "f0ed8a39",
   "metadata": {},
   "outputs": [
    {
     "name": "stdout",
     "output_type": "stream",
     "text": [
      "['patient', '45', 'an', 'admis', 'covid-l9', 'séver', 'crp', '125', 'mg', '/', 'l', 'n', '<', '5', 'fievr', '39.2', 'c', 'trait', 'glucocorticoid', 'intravein', 'azithromycin', '500', 'mg', '/', 'j', 'attent', 'allerg', 'pénicillin']\n"
     ]
    }
   ],
   "source": [
    "print(normalisation(no_stop_words))"
   ]
  },
  {
   "cell_type": "markdown",
   "id": "40481d49",
   "metadata": {},
   "source": [
    "## Exemples"
   ]
  },
  {
   "cell_type": "code",
   "execution_count": 318,
   "id": "24c8f648",
   "metadata": {},
   "outputs": [
    {
     "name": "stdout",
     "output_type": "stream",
     "text": [
      "['patient', '60', 'an', 'hospitalis', 'pneumopath', 'crp', '240', 'mg', '/', 'l', 'trait', 'initial', 'amoxicillin', '1', 'g', '/', 'j', 'fievr', 'persist', '38.', 'c', 'scann', 'réalis']\n",
      "['patient', '33', 'an', 'chut', 'scann', 'cérébral', 'normal', 'températur', '37.8ºc', 'trait', 'paracétamol', '500', 'mg']\n",
      "['admiss', 'dun', 'homm', '72', 'an', 'douleur', 'thorac', 'ecg', 'normal', 'troponin', 'o.o4', 'ng', '/', 'ml', 'trait', 'surveil', 'aspirin', '75', 'mg', '/']\n",
      "['patient', '25', 'an', 'suiv', 'asthme', 'cris', 'aigu', 'oxygen', '3', 'l', '/', 'min', 'corticoïd', '100', 'mg', 'intravein', 'administr']\n",
      "['patient', '50', 'an', 'diabet', 'consult', 'hbal', '9.2', 'trait', 'modifi', 'metformin', '1000', 'mg', '/', 'régim', 'conseil', 'poid', '95', 'kg']\n"
     ]
    }
   ],
   "source": [
    "data = {\n",
    "    \"texte1\" : \"\"\"Pat. 60ans hospitalisé le 15/04/2023 pour pneumopathie.\n",
    "        CRP à 240mg/L. Ttt initial par amoxicilline 1g/J.\n",
    "        Fièvre persistante à 38.5°C. Scanner réalisé.\n",
    "        \"\"\",\n",
    "    \"texte2\" : \"\"\"Pat. 33ans. Chute le 01/01/25. Scanner cérébral normal.\n",
    "        Température à 37.8ºC. Ttt: paracétamol 500mg.\n",
    "        \"\"\",\n",
    "    \"texte3\" : \"\"\"Admission d’un homme de 72ans le 02/02/22.\n",
    "        Douleurs thoraciques. ECG normal. Troponine: 0.04ng/mL.\n",
    "        Ttt: surveillance + aspirine 75mg/j.\n",
    "        \"\"\",\n",
    "    \"texte4\" : \"\"\"Pat. 25ans, suivi pour asthme. Crise aiguë le 04/03/2025.\n",
    "        Oxygène à 3L/min. Corticoïdes 100mg IV administrés.\n",
    "        \"\"\",\n",
    "    \"texte5\" : \"\"\"Pat. 50ans diabétique. Consultation du 10/10/2020.\n",
    "        HbA1c: 9.2%. Ttt modifié: metformine 1000mg/j.\n",
    "        Régime conseillé. Poids: 95kg.\n",
    "        \"\"\"\n",
    "}\n",
    "\n",
    "\n",
    "for sen in data.values():\n",
    "    tokens = supprimer_stopwords(tokenisation(sen))\n",
    "    normalized = normalisation(tokens)\n",
    "    print(normalized)"
   ]
  }
 ],
 "metadata": {
  "kernelspec": {
   "display_name": "DL",
   "language": "python",
   "name": "python3"
  },
  "language_info": {
   "codemirror_mode": {
    "name": "ipython",
    "version": 3
   },
   "file_extension": ".py",
   "mimetype": "text/x-python",
   "name": "python",
   "nbconvert_exporter": "python",
   "pygments_lexer": "ipython3",
   "version": "3.11.11"
  }
 },
 "nbformat": 4,
 "nbformat_minor": 5
}
