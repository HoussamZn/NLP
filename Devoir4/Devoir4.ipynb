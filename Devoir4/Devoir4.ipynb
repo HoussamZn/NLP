{
 "cells": [
  {
   "cell_type": "code",
   "execution_count": 58,
   "id": "f065e9df",
   "metadata": {},
   "outputs": [],
   "source": [
    "import spacy"
   ]
  },
  {
   "cell_type": "code",
   "execution_count": 59,
   "id": "c8712320",
   "metadata": {},
   "outputs": [],
   "source": [
    "texte = \"Le médecin prescrit des antibiotiques au patient fiévreux après le diagnostic.\"\n",
    "\n",
    "nlp = spacy.load(\"fr_core_news_sm\")\n",
    "doc = nlp(texte)"
   ]
  },
  {
   "cell_type": "code",
   "execution_count": 60,
   "id": "d0470b69",
   "metadata": {},
   "outputs": [
    {
     "name": "stdout",
     "output_type": "stream",
     "text": [
      "Mot: Le              POS: DET      (determiner) Dépendance: det          (determiner) Tête: médecin     \n",
      "Mot: médecin         POS: NOUN     (noun) Dépendance: nsubj        (nominal subject) Tête: prescrit    \n",
      "Mot: prescrit        POS: ADJ      (adjective) Dépendance: ROOT         (root) Tête: prescrit    \n",
      "Mot: des             POS: ADP      (adposition) Dépendance: case         (case marking) Tête: antibiotiques\n",
      "Mot: antibiotiques   POS: NOUN     (noun) Dépendance: obl:arg      (None) Tête: prescrit    \n",
      "Mot: au              POS: ADP      (adposition) Dépendance: case         (case marking) Tête: patient     \n",
      "Mot: patient         POS: NOUN     (noun) Dépendance: obl:mod      (None) Tête: prescrit    \n",
      "Mot: fiévreux        POS: ADJ      (adjective) Dépendance: acl          (clausal modifier of noun (adjectival clause)) Tête: patient     \n",
      "Mot: après           POS: ADP      (adposition) Dépendance: case         (case marking) Tête: diagnostic  \n",
      "Mot: le              POS: DET      (determiner) Dépendance: det          (determiner) Tête: diagnostic  \n",
      "Mot: diagnostic      POS: NOUN     (noun) Dépendance: nmod         (modifier of nominal) Tête: patient     \n",
      "Mot: .               POS: PUNCT    (punctuation) Dépendance: punct        (punctuation) Tête: prescrit    \n"
     ]
    }
   ],
   "source": [
    "for token in doc:\n",
    "    print(\n",
    "        f\"Mot: {token.text:<15}\",\n",
    "        f\"POS: {token.pos_:<8} ({spacy.explain(token.pos_)})\",\n",
    "        f\"Dépendance: {token.dep_:<12} ({spacy.explain(token.dep_)})\",\n",
    "        f\"Tête: {token.head.text:<12}\"\n",
    "    )"
   ]
  },
  {
   "cell_type": "code",
   "execution_count": 61,
   "id": "82b9ba31",
   "metadata": {},
   "outputs": [
    {
     "name": "stdout",
     "output_type": "stream",
     "text": [
      "Le verbe principal : prescrit\n",
      "sujet : médecin\n",
      "COD : antibiotiques\n",
      "les complément circonstanciels : ['patient']\n"
     ]
    }
   ],
   "source": [
    "for token in doc:\n",
    "    if token.dep_ == \"ROOT\":\n",
    "        print(f\"Le verbe principal : {token.text}\")\n",
    "        verb = token.text\n",
    "        sujet = [t.text for t in token.lefts if t.dep_ == \"nsubj\" and t.head.text == verb]\n",
    "        print(f\"sujet : {sujet[0]}\")\n",
    "        cod = [t.text for t in token.rights if t.dep_ == \"obl:arg\" and t.head.text == verb]\n",
    "        print(f\"COD : {cod[0]}\")\n",
    "        cc = [t.text for t in token.rights if t.dep_ == \"obl:mod\" and t.head.text == verb]\n",
    "        print(f\"les complément circonstanciels : {cc}\")\n",
    "        \n"
   ]
  },
  {
   "cell_type": "code",
   "execution_count": 63,
   "id": "c322d383",
   "metadata": {},
   "outputs": [
    {
     "name": "stdout",
     "output_type": "stream",
     "text": [
      "=== Relations Sujet – Verbe – Objet ===\n",
      "Sujet: ['médecin'] ; Verbe: prescrit ; Objet: ['patient']\n"
     ]
    }
   ],
   "source": [
    "print(\"=== Relations Sujet – Verbe – Objet ===\")\n",
    "for token in doc:\n",
    "    if token.dep_ == \"ROOT\":\n",
    "        sujet = [t.text for t in token.lefts if t.dep_ == \"nsubj\"]\n",
    "        objet = [t.text for t in token.rights if t.dep_ == \"obl:mod\"]\n",
    "        print(f\"Sujet: {sujet} ; Verbe: {token.text} ; Objet: {objet}\")"
   ]
  },
  {
   "cell_type": "code",
   "execution_count": 64,
   "id": "dedbefec",
   "metadata": {},
   "outputs": [],
   "source": [
    "texte = \"The doctor prescribes antibiotics after the diagnosis.\"\n",
    "\n",
    "nlp = spacy.load(\"en_core_web_sm\")\n",
    "doc = nlp(texte)"
   ]
  },
  {
   "cell_type": "code",
   "execution_count": 65,
   "id": "7776b5c3",
   "metadata": {},
   "outputs": [
    {
     "name": "stdout",
     "output_type": "stream",
     "text": [
      "Mot: The             POS: DET      (determiner) Dépendance: det          (determiner) Tête: doctor      \n",
      "Mot: doctor          POS: NOUN     (noun) Dépendance: nsubj        (nominal subject) Tête: prescribes  \n",
      "Mot: prescribes      POS: VERB     (verb) Dépendance: ROOT         (root) Tête: prescribes  \n",
      "Mot: antibiotics     POS: NOUN     (noun) Dépendance: dobj         (direct object) Tête: prescribes  \n",
      "Mot: after           POS: ADP      (adposition) Dépendance: prep         (prepositional modifier) Tête: prescribes  \n",
      "Mot: the             POS: DET      (determiner) Dépendance: det          (determiner) Tête: diagnosis   \n",
      "Mot: diagnosis       POS: NOUN     (noun) Dépendance: pobj         (object of preposition) Tête: after       \n",
      "Mot: .               POS: PUNCT    (punctuation) Dépendance: punct        (punctuation) Tête: prescribes  \n"
     ]
    }
   ],
   "source": [
    "for token in doc:\n",
    "    print(\n",
    "        f\"Mot: {token.text:<15}\",\n",
    "        f\"POS: {token.pos_:<8} ({spacy.explain(token.pos_)})\",\n",
    "        f\"Dépendance: {token.dep_:<12} ({spacy.explain(token.dep_)})\",\n",
    "        f\"Tête: {token.head.text:<12}\"\n",
    "    )"
   ]
  },
  {
   "cell_type": "code",
   "execution_count": 68,
   "id": "5f155382",
   "metadata": {},
   "outputs": [
    {
     "name": "stdout",
     "output_type": "stream",
     "text": [
      "Le verbe principal : prescribes\n",
      "sujet : doctor\n",
      "COD : ['antibiotics']\n"
     ]
    }
   ],
   "source": [
    "for token in doc:\n",
    "    if token.dep_ == \"ROOT\":\n",
    "        print(f\"Le verbe principal : {token.text}\")\n",
    "        verb = token.text\n",
    "        sujet = [t.text for t in token.lefts if t.dep_ == \"nsubj\" and t.head.text == verb]\n",
    "        print(f\"sujet : {sujet[0]}\")\n",
    "        cod = [t.text for t in token.rights if t.dep_ == \"dobj\" and t.head.text == verb]\n",
    "        print(f\"COD : {cod}\")"
   ]
  },
  {
   "cell_type": "code",
   "execution_count": 70,
   "id": "8e1f8393",
   "metadata": {},
   "outputs": [
    {
     "name": "stdout",
     "output_type": "stream",
     "text": [
      "=== Relations Sujet – Verbe – Objet ===\n",
      "Sujet: ['doctor'] ; Verbe: prescribes ; Objet: ['antibiotics']\n"
     ]
    }
   ],
   "source": [
    "print(\"=== Relations Sujet – Verbe – Objet ===\")\n",
    "for token in doc:\n",
    "    if token.dep_ == \"ROOT\":\n",
    "        sujet = [t.text for t in token.lefts if t.dep_ == \"nsubj\"]\n",
    "        objet = [t.text for t in token.rights if t.dep_ == \"dobj\"]\n",
    "        print(f\"Sujet: {sujet} ; Verbe: {token.text} ; Objet: {objet}\")"
   ]
  }
 ],
 "metadata": {
  "kernelspec": {
   "display_name": "DL",
   "language": "python",
   "name": "python3"
  },
  "language_info": {
   "codemirror_mode": {
    "name": "ipython",
    "version": 3
   },
   "file_extension": ".py",
   "mimetype": "text/x-python",
   "name": "python",
   "nbconvert_exporter": "python",
   "pygments_lexer": "ipython3",
   "version": "3.11.11"
  }
 },
 "nbformat": 4,
 "nbformat_minor": 5
}
