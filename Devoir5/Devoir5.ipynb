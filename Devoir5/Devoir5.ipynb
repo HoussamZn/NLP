{
 "cells": [
  {
   "cell_type": "markdown",
   "id": "1f3e80ca",
   "metadata": {},
   "source": [
    "## Partie 1 : POS Tagging Médical"
   ]
  },
  {
   "cell_type": "code",
   "execution_count": 66,
   "id": "7aef682e",
   "metadata": {},
   "outputs": [],
   "source": [
    "import spacy\n",
    "import re\n",
    "\n",
    "texte = \"La patiente âgée de 65 ans présente une toux persistante et une fièvre à 38.5°C. Le médecin prescrit de l'amoxicilline 500mg 3x/jour.\"\n",
    "nlp = spacy.load(\"fr_core_news_md\")\n"
   ]
  },
  {
   "cell_type": "code",
   "execution_count": 67,
   "id": "9ef9baf1",
   "metadata": {},
   "outputs": [],
   "source": [
    "pattern = re.compile(r\"(\\d+x/jour|\\d+(?:\\.\\d+)?°C|\\d+mg|\\d+g)\")\n",
    "\n",
    "# Personnaliser le tokenizer avec token_match\n",
    "def custom_tokenizer(nlp):\n",
    "    return spacy.tokenizer.Tokenizer(\n",
    "        nlp.vocab,\n",
    "        token_match=pattern.match,\n",
    "        rules=nlp.Defaults.tokenizer_exceptions,\n",
    "        prefix_search=nlp.tokenizer.prefix_search,\n",
    "        suffix_search=nlp.tokenizer.suffix_search,\n",
    "        infix_finditer=nlp.tokenizer.infix_finditer\n",
    "    )\n",
    "nlp.tokenizer = custom_tokenizer(nlp)\n",
    "doc = nlp(texte)"
   ]
  },
  {
   "cell_type": "code",
   "execution_count": 68,
   "id": "d79319d8",
   "metadata": {},
   "outputs": [
    {
     "name": "stdout",
     "output_type": "stream",
     "text": [
      "Mot: La              POS: DET      Lemme: le              Dépendance: det          Tête: patiente    \n",
      "Mot: patiente        POS: NOUN     Lemme: patient         Dépendance: nsubj        Tête: présente    \n",
      "Mot: âgée            POS: ADJ      Lemme: âgé             Dépendance: acl          Tête: patiente    \n",
      "Mot: de              POS: ADP      Lemme: de              Dépendance: case         Tête: ans         \n",
      "Mot: 65              POS: NUM      Lemme: 65              Dépendance: nummod       Tête: ans         \n",
      "Mot: ans             POS: NOUN     Lemme: an              Dépendance: obl:arg      Tête: âgée        \n",
      "Mot: présente        POS: VERB     Lemme: présente        Dépendance: ROOT         Tête: présente    \n",
      "Mot: une             POS: DET      Lemme: un              Dépendance: det          Tête: persistante \n",
      "Mot: toux            POS: NOUN     Lemme: toux            Dépendance: amod         Tête: persistante \n",
      "Mot: persistante     POS: NOUN     Lemme: persistante     Dépendance: obj          Tête: présente    \n",
      "Mot: et              POS: CCONJ    Lemme: et              Dépendance: cc           Tête: fièvre      \n",
      "Mot: une             POS: DET      Lemme: un              Dépendance: det          Tête: fièvre      \n",
      "Mot: fièvre          POS: NOUN     Lemme: fièvre          Dépendance: conj         Tête: présente    \n",
      "Mot: à               POS: ADP      Lemme: à               Dépendance: case         Tête: 38.5°C.     \n",
      "Mot: 38.5°C.         POS: PROPN    Lemme: 38.5°C.         Dépendance: nmod         Tête: fièvre      \n",
      "Mot: Le              POS: DET      Lemme: le              Dépendance: det          Tête: médecin     \n",
      "Mot: médecin         POS: NOUN     Lemme: médecin         Dépendance: ROOT         Tête: médecin     \n",
      "Mot: prescrit        POS: VERB     Lemme: prescrire       Dépendance: acl          Tête: médecin     \n",
      "Mot: de              POS: ADP      Lemme: de              Dépendance: case         Tête: amoxicilline\n",
      "Mot: l'              POS: DET      Lemme: le              Dépendance: det          Tête: amoxicilline\n",
      "Mot: amoxicilline    POS: NOUN     Lemme: amoxicilline    Dépendance: obl:arg      Tête: prescrit    \n",
      "Mot: 500mg           POS: ADP      Lemme: 500mg           Dépendance: amod         Tête: amoxicilline\n",
      "Mot: 3x/jour.        POS: NUM      Lemme: 3x/jour.        Dépendance: punct        Tête: médecin     \n"
     ]
    }
   ],
   "source": [
    "for token in doc:\n",
    "    print(\n",
    "        f\"Mot: {token.text:<15}\",\n",
    "        f\"POS: {token.pos_:<8}\",\n",
    "        f\"Lemme: {token.lemma_:<15}\",\n",
    "        f\"Dépendance: {token.dep_:<12}\",\n",
    "        f\"Tête: {token.head.text:<12}\"\n",
    "    )"
   ]
  },
  {
   "cell_type": "code",
   "execution_count": 69,
   "id": "f0a64432",
   "metadata": {},
   "outputs": [
    {
     "data": {
      "text/plain": [
       "['une toux persistante', 'une fièvre']"
      ]
     },
     "execution_count": 69,
     "metadata": {},
     "output_type": "execute_result"
    }
   ],
   "source": [
    "symptomes = []\n",
    "for token in doc:\n",
    "    if token.dep_ == \"obj\" and token.head.lemma_ == \"présente\":\n",
    "        mods = [child.text for child in token.children if child.dep_ in (\"amod\", \"compound\", \"det\")]\n",
    "        symptomes.append(\" \".join(mods + [token.text]))\n",
    "    \n",
    "    if token.dep_ == \"conj\" and token.head.lemma_ == \"présente\":\n",
    "        mods = [child.text for child in token.children if child.dep_ in (\"amod\", \"compound\", \"det\")]\n",
    "        symptomes.append(\" \".join(mods + [token.text]))\n",
    "symptomes"
   ]
  },
  {
   "cell_type": "code",
   "execution_count": 70,
   "id": "3bd4df59",
   "metadata": {},
   "outputs": [
    {
     "data": {
      "text/plain": [
       "[\"amoxicilline l' 500mg\"]"
      ]
     },
     "execution_count": 70,
     "metadata": {},
     "output_type": "execute_result"
    }
   ],
   "source": [
    "traitements = []\n",
    "for token in doc:\n",
    "    if token.lemma_ == \"prescrire\" and token.pos_ == \"VERB\":\n",
    "        for child in token.children:\n",
    "            dose = [c.text for c in child.children if c.dep_ in (\"amod\", \"nummod\", \"det\")]\n",
    "            traitements.append(\" \".join([child.text] + dose))\n",
    "traitements"
   ]
  },
  {
   "cell_type": "markdown",
   "id": "80b97fda",
   "metadata": {},
   "source": [
    "## Partie 2 : Extraction de Relations "
   ]
  },
  {
   "cell_type": "code",
   "execution_count": 71,
   "id": "e17ab2c3",
   "metadata": {},
   "outputs": [],
   "source": [
    "def extraire_relations(text:str,nlp):\n",
    "    doc = nlp(text)\n",
    "    relations = []\n",
    "    for token in doc:\n",
    "        if token.pos_ == \"VERB\":\n",
    "            sujet = None\n",
    "            objet = None\n",
    "            for child in token.children:\n",
    "                if child.dep_ in (\"nsubj\", \"nsubj:pass\"):\n",
    "                    sujet = child.text\n",
    "                elif child.dep_ in (\"obj\", \"obl:arg\"):\n",
    "                    objet = child.text\n",
    "            if sujet and objet:\n",
    "                relations.append((sujet, token.lemma_, objet))\n",
    "    return relations\n"
   ]
  },
  {
   "cell_type": "code",
   "execution_count": 72,
   "id": "2fdbefab",
   "metadata": {},
   "outputs": [
    {
     "ename": "ModuleNotFoundError",
     "evalue": "No module named 'analyse_medicale'",
     "output_type": "error",
     "traceback": [
      "\u001b[1;31m---------------------------------------------------------------------------\u001b[0m",
      "\u001b[1;31mModuleNotFoundError\u001b[0m                       Traceback (most recent call last)",
      "Cell \u001b[1;32mIn[72], line 1\u001b[0m\n\u001b[1;32m----> 1\u001b[0m \u001b[38;5;28;01mfrom\u001b[39;00m \u001b[38;5;21;01manalyse_medicale\u001b[39;00m \u001b[38;5;28;01mimport\u001b[39;00m extraire_relations\n",
      "\u001b[1;31mModuleNotFoundError\u001b[0m: No module named 'analyse_medicale'"
     ]
    }
   ],
   "source": [
    "from analyse_medicale import extraire_relations"
   ]
  },
  {
   "cell_type": "code",
   "execution_count": null,
   "id": "1a685c3d",
   "metadata": {},
   "outputs": [
    {
     "data": {
      "text/plain": [
       "[('médecin', 'arrêter', 'aspirine'), ('saignements', 'raison', 'arrêter')]"
      ]
     },
     "execution_count": 62,
     "metadata": {},
     "output_type": "execute_result"
    }
   ],
   "source": [
    "rs_text = extraire_relations(\"Le médecin arrête l'aspirine en raison de saignements.\",nlp)\n",
    "rs_text"
   ]
  },
  {
   "cell_type": "markdown",
   "id": "39e884db",
   "metadata": {},
   "source": [
    "## Partie 3 : Analyse de Dépendances"
   ]
  },
  {
   "cell_type": "code",
   "execution_count": null,
   "id": "831e301b",
   "metadata": {},
   "outputs": [
    {
     "data": {
      "text/html": [
       "<span class=\"tex2jax_ignore\"><svg xmlns=\"http://www.w3.org/2000/svg\" xmlns:xlink=\"http://www.w3.org/1999/xlink\" xml:lang=\"fr\" id=\"22044b212cb24149857a023901f989a9-0\" class=\"displacy\" width=\"1625\" height=\"312.0\" direction=\"ltr\" style=\"max-width: none; height: 312.0px; color: #000000; background: #ffffff; font-family: Arial; direction: ltr\">\n",
       "<text class=\"displacy-token\" fill=\"currentColor\" text-anchor=\"middle\" y=\"222.0\">\n",
       "    <tspan class=\"displacy-word\" fill=\"currentColor\" x=\"50\">Après</tspan>\n",
       "    <tspan class=\"displacy-tag\" dy=\"2em\" fill=\"currentColor\" x=\"50\">ADP</tspan>\n",
       "</text>\n",
       "\n",
       "<text class=\"displacy-token\" fill=\"currentColor\" text-anchor=\"middle\" y=\"222.0\">\n",
       "    <tspan class=\"displacy-word\" fill=\"currentColor\" x=\"225\">analyse,</tspan>\n",
       "    <tspan class=\"displacy-tag\" dy=\"2em\" fill=\"currentColor\" x=\"225\">NOUN</tspan>\n",
       "</text>\n",
       "\n",
       "<text class=\"displacy-token\" fill=\"currentColor\" text-anchor=\"middle\" y=\"222.0\">\n",
       "    <tspan class=\"displacy-word\" fill=\"currentColor\" x=\"400\">le</tspan>\n",
       "    <tspan class=\"displacy-tag\" dy=\"2em\" fill=\"currentColor\" x=\"400\">DET</tspan>\n",
       "</text>\n",
       "\n",
       "<text class=\"displacy-token\" fill=\"currentColor\" text-anchor=\"middle\" y=\"222.0\">\n",
       "    <tspan class=\"displacy-word\" fill=\"currentColor\" x=\"575\">cardiologue</tspan>\n",
       "    <tspan class=\"displacy-tag\" dy=\"2em\" fill=\"currentColor\" x=\"575\">NOUN</tspan>\n",
       "</text>\n",
       "\n",
       "<text class=\"displacy-token\" fill=\"currentColor\" text-anchor=\"middle\" y=\"222.0\">\n",
       "    <tspan class=\"displacy-word\" fill=\"currentColor\" x=\"750\">recommande</tspan>\n",
       "    <tspan class=\"displacy-tag\" dy=\"2em\" fill=\"currentColor\" x=\"750\">VERB</tspan>\n",
       "</text>\n",
       "\n",
       "<text class=\"displacy-token\" fill=\"currentColor\" text-anchor=\"middle\" y=\"222.0\">\n",
       "    <tspan class=\"displacy-word\" fill=\"currentColor\" x=\"925\">un</tspan>\n",
       "    <tspan class=\"displacy-tag\" dy=\"2em\" fill=\"currentColor\" x=\"925\">DET</tspan>\n",
       "</text>\n",
       "\n",
       "<text class=\"displacy-token\" fill=\"currentColor\" text-anchor=\"middle\" y=\"222.0\">\n",
       "    <tspan class=\"displacy-word\" fill=\"currentColor\" x=\"1100\">scanner</tspan>\n",
       "    <tspan class=\"displacy-tag\" dy=\"2em\" fill=\"currentColor\" x=\"1100\">NOUN</tspan>\n",
       "</text>\n",
       "\n",
       "<text class=\"displacy-token\" fill=\"currentColor\" text-anchor=\"middle\" y=\"222.0\">\n",
       "    <tspan class=\"displacy-word\" fill=\"currentColor\" x=\"1275\">cardiaque</tspan>\n",
       "    <tspan class=\"displacy-tag\" dy=\"2em\" fill=\"currentColor\" x=\"1275\">ADJ</tspan>\n",
       "</text>\n",
       "\n",
       "<text class=\"displacy-token\" fill=\"currentColor\" text-anchor=\"middle\" y=\"222.0\">\n",
       "    <tspan class=\"displacy-word\" fill=\"currentColor\" x=\"1450\">immédiat.</tspan>\n",
       "    <tspan class=\"displacy-tag\" dy=\"2em\" fill=\"currentColor\" x=\"1450\">ADJ</tspan>\n",
       "</text>\n",
       "\n",
       "<g class=\"displacy-arrow\">\n",
       "    <path class=\"displacy-arc\" id=\"arrow-22044b212cb24149857a023901f989a9-0-0\" stroke-width=\"2px\" d=\"M70,177.0 C70,89.5 220.0,89.5 220.0,177.0\" fill=\"none\" stroke=\"currentColor\"/>\n",
       "    <text dy=\"1.25em\" style=\"font-size: 0.8em; letter-spacing: 1px\">\n",
       "        <textPath xlink:href=\"#arrow-22044b212cb24149857a023901f989a9-0-0\" class=\"displacy-label\" startOffset=\"50%\" side=\"left\" fill=\"currentColor\" text-anchor=\"middle\">case</textPath>\n",
       "    </text>\n",
       "    <path class=\"displacy-arrowhead\" d=\"M70,179.0 L62,167.0 78,167.0\" fill=\"currentColor\"/>\n",
       "</g>\n",
       "\n",
       "<g class=\"displacy-arrow\">\n",
       "    <path class=\"displacy-arc\" id=\"arrow-22044b212cb24149857a023901f989a9-0-1\" stroke-width=\"2px\" d=\"M245,177.0 C245,2.0 750.0,2.0 750.0,177.0\" fill=\"none\" stroke=\"currentColor\"/>\n",
       "    <text dy=\"1.25em\" style=\"font-size: 0.8em; letter-spacing: 1px\">\n",
       "        <textPath xlink:href=\"#arrow-22044b212cb24149857a023901f989a9-0-1\" class=\"displacy-label\" startOffset=\"50%\" side=\"left\" fill=\"currentColor\" text-anchor=\"middle\">obl:mod</textPath>\n",
       "    </text>\n",
       "    <path class=\"displacy-arrowhead\" d=\"M245,179.0 L237,167.0 253,167.0\" fill=\"currentColor\"/>\n",
       "</g>\n",
       "\n",
       "<g class=\"displacy-arrow\">\n",
       "    <path class=\"displacy-arc\" id=\"arrow-22044b212cb24149857a023901f989a9-0-2\" stroke-width=\"2px\" d=\"M420,177.0 C420,89.5 570.0,89.5 570.0,177.0\" fill=\"none\" stroke=\"currentColor\"/>\n",
       "    <text dy=\"1.25em\" style=\"font-size: 0.8em; letter-spacing: 1px\">\n",
       "        <textPath xlink:href=\"#arrow-22044b212cb24149857a023901f989a9-0-2\" class=\"displacy-label\" startOffset=\"50%\" side=\"left\" fill=\"currentColor\" text-anchor=\"middle\">det</textPath>\n",
       "    </text>\n",
       "    <path class=\"displacy-arrowhead\" d=\"M420,179.0 L412,167.0 428,167.0\" fill=\"currentColor\"/>\n",
       "</g>\n",
       "\n",
       "<g class=\"displacy-arrow\">\n",
       "    <path class=\"displacy-arc\" id=\"arrow-22044b212cb24149857a023901f989a9-0-3\" stroke-width=\"2px\" d=\"M595,177.0 C595,89.5 745.0,89.5 745.0,177.0\" fill=\"none\" stroke=\"currentColor\"/>\n",
       "    <text dy=\"1.25em\" style=\"font-size: 0.8em; letter-spacing: 1px\">\n",
       "        <textPath xlink:href=\"#arrow-22044b212cb24149857a023901f989a9-0-3\" class=\"displacy-label\" startOffset=\"50%\" side=\"left\" fill=\"currentColor\" text-anchor=\"middle\">nsubj</textPath>\n",
       "    </text>\n",
       "    <path class=\"displacy-arrowhead\" d=\"M595,179.0 L587,167.0 603,167.0\" fill=\"currentColor\"/>\n",
       "</g>\n",
       "\n",
       "<g class=\"displacy-arrow\">\n",
       "    <path class=\"displacy-arc\" id=\"arrow-22044b212cb24149857a023901f989a9-0-4\" stroke-width=\"2px\" d=\"M945,177.0 C945,89.5 1095.0,89.5 1095.0,177.0\" fill=\"none\" stroke=\"currentColor\"/>\n",
       "    <text dy=\"1.25em\" style=\"font-size: 0.8em; letter-spacing: 1px\">\n",
       "        <textPath xlink:href=\"#arrow-22044b212cb24149857a023901f989a9-0-4\" class=\"displacy-label\" startOffset=\"50%\" side=\"left\" fill=\"currentColor\" text-anchor=\"middle\">det</textPath>\n",
       "    </text>\n",
       "    <path class=\"displacy-arrowhead\" d=\"M945,179.0 L937,167.0 953,167.0\" fill=\"currentColor\"/>\n",
       "</g>\n",
       "\n",
       "<g class=\"displacy-arrow\">\n",
       "    <path class=\"displacy-arc\" id=\"arrow-22044b212cb24149857a023901f989a9-0-5\" stroke-width=\"2px\" d=\"M770,177.0 C770,2.0 1100.0,2.0 1100.0,177.0\" fill=\"none\" stroke=\"currentColor\"/>\n",
       "    <text dy=\"1.25em\" style=\"font-size: 0.8em; letter-spacing: 1px\">\n",
       "        <textPath xlink:href=\"#arrow-22044b212cb24149857a023901f989a9-0-5\" class=\"displacy-label\" startOffset=\"50%\" side=\"left\" fill=\"currentColor\" text-anchor=\"middle\">obj</textPath>\n",
       "    </text>\n",
       "    <path class=\"displacy-arrowhead\" d=\"M1100.0,179.0 L1108.0,167.0 1092.0,167.0\" fill=\"currentColor\"/>\n",
       "</g>\n",
       "\n",
       "<g class=\"displacy-arrow\">\n",
       "    <path class=\"displacy-arc\" id=\"arrow-22044b212cb24149857a023901f989a9-0-6\" stroke-width=\"2px\" d=\"M1120,177.0 C1120,89.5 1270.0,89.5 1270.0,177.0\" fill=\"none\" stroke=\"currentColor\"/>\n",
       "    <text dy=\"1.25em\" style=\"font-size: 0.8em; letter-spacing: 1px\">\n",
       "        <textPath xlink:href=\"#arrow-22044b212cb24149857a023901f989a9-0-6\" class=\"displacy-label\" startOffset=\"50%\" side=\"left\" fill=\"currentColor\" text-anchor=\"middle\">amod</textPath>\n",
       "    </text>\n",
       "    <path class=\"displacy-arrowhead\" d=\"M1270.0,179.0 L1278.0,167.0 1262.0,167.0\" fill=\"currentColor\"/>\n",
       "</g>\n",
       "\n",
       "<g class=\"displacy-arrow\">\n",
       "    <path class=\"displacy-arc\" id=\"arrow-22044b212cb24149857a023901f989a9-0-7\" stroke-width=\"2px\" d=\"M1120,177.0 C1120,2.0 1450.0,2.0 1450.0,177.0\" fill=\"none\" stroke=\"currentColor\"/>\n",
       "    <text dy=\"1.25em\" style=\"font-size: 0.8em; letter-spacing: 1px\">\n",
       "        <textPath xlink:href=\"#arrow-22044b212cb24149857a023901f989a9-0-7\" class=\"displacy-label\" startOffset=\"50%\" side=\"left\" fill=\"currentColor\" text-anchor=\"middle\">amod</textPath>\n",
       "    </text>\n",
       "    <path class=\"displacy-arrowhead\" d=\"M1450.0,179.0 L1458.0,167.0 1442.0,167.0\" fill=\"currentColor\"/>\n",
       "</g>\n",
       "</svg></span>"
      ],
      "text/plain": [
       "<IPython.core.display.HTML object>"
      ]
     },
     "metadata": {},
     "output_type": "display_data"
    }
   ],
   "source": [
    "from spacy import displacy\n",
    "\n",
    "disp_test = \"Après analyse, le cardiologue recommande un scanner cardiaque immédiat.\"\n",
    "doc=nlp(disp_test)\n",
    "\n",
    "displacy.render(doc, style=\"dep\", jupyter=True)"
   ]
  },
  {
   "cell_type": "code",
   "execution_count": null,
   "id": "c8d2aa89",
   "metadata": {},
   "outputs": [],
   "source": [
    "from analyse_medicale import extraire_medicaments_posologie\n"
   ]
  },
  {
   "cell_type": "code",
   "execution_count": null,
   "id": "1987f9a8",
   "metadata": {},
   "outputs": [
    {
     "data": {
      "text/plain": [
       "[('amoxicilline', '500mg 3x/jour')]"
      ]
     },
     "execution_count": 65,
     "metadata": {},
     "output_type": "execute_result"
    }
   ],
   "source": [
    "extraire_medicaments_posologie(nlp,texte)"
   ]
  },
  {
   "cell_type": "code",
   "execution_count": 74,
   "id": "b0f5b15e",
   "metadata": {},
   "outputs": [
    {
     "name": "stdout",
     "output_type": "stream",
     "text": [
      "Extraction des relations :\n",
      "\n",
      "[('patient', 'refuser', 'anticoagulant')]\n",
      "[]\n",
      "[]\n",
      "[('médecin', 'arrêter', 'aspirine')]\n",
      "[('patient', 'prendre', 'paracétamol')]\n",
      "[('docteur', 'prescrire', 'antibiotiques')]\n",
      "[('patiente', 'recevoir', 'perfusion')]\n",
      "[('On', 'suspendre', 'traitement')]\n"
     ]
    }
   ],
   "source": [
    "phrases_test = [\n",
    "    \"Le patient n' a pas refuse l'anticoagulant malgré son AVC récent.\",\n",
    "    \"Prescription : ibuprofène 400mg si douleur, maximum 3 comprimés/jour.\",\n",
    "    \"Pas d'antibiothérapie pour cette infection virale.\",\n",
    "    \"Le médecin arrête l'aspirine en raison de saignements.\",\n",
    "    \"Le patient prend du paracétamol chaque matin.\",\n",
    "    \"Le docteur ne prescrit pas d'antibiotiques.\",\n",
    "    \"La patiente reçoit une perfusion à cause de la déshydratation.\",\n",
    "    \"On suspend le traitement pour éviter les effets secondaires.\"\n",
    "]\n",
    "\n",
    "print(\"Extraction des relations :\\n\")\n",
    "for sent in phrases_test:\n",
    "    print(extraire_relations(sent,nlp))"
   ]
  }
 ],
 "metadata": {
  "kernelspec": {
   "display_name": "DL",
   "language": "python",
   "name": "python3"
  },
  "language_info": {
   "codemirror_mode": {
    "name": "ipython",
    "version": 3
   },
   "file_extension": ".py",
   "mimetype": "text/x-python",
   "name": "python",
   "nbconvert_exporter": "python",
   "pygments_lexer": "ipython3",
   "version": "3.11.11"
  }
 },
 "nbformat": 4,
 "nbformat_minor": 5
}
